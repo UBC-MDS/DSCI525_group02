{
 "cells": [
  {
   "cell_type": "markdown",
   "id": "f0aaf5cc-9df9-409c-8dc9-f473f4e33e58",
   "metadata": {},
   "source": [
    "# Download Data"
   ]
  },
  {
   "cell_type": "code",
   "execution_count": 5,
   "id": "500a3922-38dd-4316-9361-abac1048b938",
   "metadata": {},
   "outputs": [],
   "source": [
    "import glob\n",
    "import json\n",
    "import os\n",
    "import re\n",
    "import zipfile\n",
    "from urllib.request import urlretrieve\n",
    "\n",
    "import pandas as pd\n",
    "import requests"
   ]
  },
  {
   "cell_type": "code",
   "execution_count": 2,
   "id": "95aae17b-adf6-4f36-819a-d39d4d18dbbb",
   "metadata": {},
   "outputs": [],
   "source": [
    "# Necessary metadata\n",
    "article_id = 14096681  # this is the unique identifier of the article on figshare\n",
    "url = f\"https://api.figshare.com/v2/articles/{article_id}\"\n",
    "headers = {\"Content-Type\": \"application/json\"}\n",
    "output_directory = \"figshareairline/\""
   ]
  },
  {
   "cell_type": "markdown",
   "id": "bcc5bb3e-93dc-459b-89bd-2418c7193cf9",
   "metadata": {},
   "source": [
    "To send a GET request to list the available files:"
   ]
  },
  {
   "cell_type": "code",
   "execution_count": 3,
   "id": "25d54a10-13ec-460f-b0d3-e7bf5f5a5fc5",
   "metadata": {},
   "outputs": [
    {
     "data": {
      "text/plain": [
       "[{'id': 26579150,\n",
       "  'name': 'daily_rainfall_2014.png',\n",
       "  'size': 58863,\n",
       "  'is_link_only': False,\n",
       "  'download_url': 'https://ndownloader.figshare.com/files/26579150',\n",
       "  'supplied_md5': 'fd32a2ffde300a31f8d63b1825d47e5e',\n",
       "  'computed_md5': 'fd32a2ffde300a31f8d63b1825d47e5e'},\n",
       " {'id': 26579171,\n",
       "  'name': 'environment.yml',\n",
       "  'size': 192,\n",
       "  'is_link_only': False,\n",
       "  'download_url': 'https://ndownloader.figshare.com/files/26579171',\n",
       "  'supplied_md5': '060b2020017eed93a1ee7dd8c65b2f34',\n",
       "  'computed_md5': '060b2020017eed93a1ee7dd8c65b2f34'},\n",
       " {'id': 26586554,\n",
       "  'name': 'README.md',\n",
       "  'size': 5422,\n",
       "  'is_link_only': False,\n",
       "  'download_url': 'https://ndownloader.figshare.com/files/26586554',\n",
       "  'supplied_md5': '61858c6cc0e6a6d6663a7e4c75bbd88c',\n",
       "  'computed_md5': '61858c6cc0e6a6d6663a7e4c75bbd88c'},\n",
       " {'id': 26766812,\n",
       "  'name': 'data.zip',\n",
       "  'size': 814041183,\n",
       "  'is_link_only': False,\n",
       "  'download_url': 'https://ndownloader.figshare.com/files/26766812',\n",
       "  'supplied_md5': 'b517383f76e77bd03755a63a8ff83ee9',\n",
       "  'computed_md5': 'b517383f76e77bd03755a63a8ff83ee9'},\n",
       " {'id': 26766815,\n",
       "  'name': 'get_data.py',\n",
       "  'size': 4113,\n",
       "  'is_link_only': False,\n",
       "  'download_url': 'https://ndownloader.figshare.com/files/26766815',\n",
       "  'supplied_md5': '7829028495fd9dec9680ea013474afa6',\n",
       "  'computed_md5': '7829028495fd9dec9680ea013474afa6'}]"
      ]
     },
     "execution_count": 3,
     "metadata": {},
     "output_type": "execute_result"
    }
   ],
   "source": [
    "response = requests.request(\"GET\", url, headers=headers)\n",
    "data = json.loads(\n",
    "    response.text\n",
    ")  # this contains all the articles data, feel free to check it out\n",
    "files = data[\"files\"]  # this is just the data about the files, which is what we want\n",
    "files"
   ]
  },
  {
   "cell_type": "markdown",
   "id": "ab4a10f7-0db1-4bf9-8555-a4039739dbbf",
   "metadata": {},
   "source": [
    "To get the file named `data.zip`:"
   ]
  },
  {
   "cell_type": "code",
   "execution_count": 4,
   "id": "41339972-7e97-4577-9877-6ce16f2a147a",
   "metadata": {},
   "outputs": [
    {
     "name": "stdout",
     "output_type": "stream",
     "text": [
      "CPU times: total: 3.67 s\n",
      "Wall time: 26.8 s\n"
     ]
    }
   ],
   "source": [
    "%%time\n",
    "files_to_dl = [\"data.zip\"]  # feel free to add other files here\n",
    "for file in files:\n",
    "    if file[\"name\"] in files_to_dl:\n",
    "        os.makedirs(output_directory, exist_ok=True)\n",
    "        urlretrieve(file[\"download_url\"], output_directory + file[\"name\"])"
   ]
  },
  {
   "cell_type": "code",
   "execution_count": 5,
   "id": "3c768710-c5fd-48d1-aabe-e54cb998ed9a",
   "metadata": {},
   "outputs": [
    {
     "name": "stdout",
     "output_type": "stream",
     "text": [
      "CPU times: total: 13.7 s\n",
      "Wall time: 13.9 s\n"
     ]
    }
   ],
   "source": [
    "%%time\n",
    "with zipfile.ZipFile(os.path.join(output_directory, \"data.zip\"), \"r\") as f:\n",
    "    f.extractall(output_directory)"
   ]
  },
  {
   "cell_type": "markdown",
   "id": "7881b122-893d-4db8-abde-433424321f9d",
   "metadata": {},
   "source": [
    "# Combine Data CSVs"
   ]
  },
  {
   "cell_type": "markdown",
   "id": "b0c502ce-975e-4e10-8efa-8bc097adac1b",
   "metadata": {},
   "source": [
    "To combine all these files using python:"
   ]
  },
  {
   "cell_type": "code",
   "execution_count": 6,
   "id": "8fafcd1e-ddec-4621-8830-7a83445c57cc",
   "metadata": {},
   "outputs": [
    {
     "name": "stdout",
     "output_type": "stream",
     "text": [
      "CPU times: total: 12min 58s\n",
      "Wall time: 13min 22s\n"
     ]
    }
   ],
   "source": [
    "%%time\n",
    "import pandas as pd\n",
    "\n",
    "files = glob.glob(\"figshareairline/*.csv\")\n",
    "try:\n",
    "    files.remove(os.path.join(\"figshareairline\", \"observed_daily_rainfall_SYD.csv\"))\n",
    "except:\n",
    "    pass\n",
    "try:\n",
    "    files.remove(os.path.join(\"figshareairline\", \"combined_data.csv\"))\n",
    "except:\n",
    "    pass\n",
    "\n",
    "df = pd.concat(\n",
    "    (\n",
    "        pd.read_csv(file, index_col=False)\n",
    "        .assign(\n",
    "            file_name=re.findall(\"[ \\w-]+\\.\", file)[0],\n",
    "            model=lambda x: x.file_name.str.split(\"_\", expand=True)[0],\n",
    "        )\n",
    "        .drop(columns=\"file_name\")\n",
    "        for file in files\n",
    "    )\n",
    ")\n",
    "df.to_csv(\"figshareairline/combined_data.csv\")"
   ]
  },
  {
   "cell_type": "code",
   "execution_count": 7,
   "id": "e0916af4-4e10-4495-ad83-157d890d4cec",
   "metadata": {},
   "outputs": [
    {
     "name": "stdout",
     "output_type": "stream",
     "text": [
      "6.1G\tfigshareairline/combined_data.csv\n"
     ]
    }
   ],
   "source": [
    "%%sh\n",
    "du -sh figshareairline/combined_data.csv"
   ]
  },
  {
   "cell_type": "code",
   "execution_count": 8,
   "id": "ca34e695-aaa3-4514-83c6-9f74cdd187ca",
   "metadata": {},
   "outputs": [
    {
     "data": {
      "text/plain": [
       "(62467843, 7)"
      ]
     },
     "execution_count": 8,
     "metadata": {},
     "output_type": "execute_result"
    }
   ],
   "source": [
    "df.shape"
   ]
  },
  {
   "cell_type": "code",
   "execution_count": 9,
   "id": "12bd2123-4d88-4fb5-a54a-2a3d3d4e8b4a",
   "metadata": {},
   "outputs": [
    {
     "data": {
      "text/html": [
       "<div>\n",
       "<style scoped>\n",
       "    .dataframe tbody tr th:only-of-type {\n",
       "        vertical-align: middle;\n",
       "    }\n",
       "\n",
       "    .dataframe tbody tr th {\n",
       "        vertical-align: top;\n",
       "    }\n",
       "\n",
       "    .dataframe thead th {\n",
       "        text-align: right;\n",
       "    }\n",
       "</style>\n",
       "<table border=\"1\" class=\"dataframe\">\n",
       "  <thead>\n",
       "    <tr style=\"text-align: right;\">\n",
       "      <th></th>\n",
       "      <th>time</th>\n",
       "      <th>lat_min</th>\n",
       "      <th>lat_max</th>\n",
       "      <th>lon_min</th>\n",
       "      <th>lon_max</th>\n",
       "      <th>rain (mm/day)</th>\n",
       "      <th>model</th>\n",
       "    </tr>\n",
       "  </thead>\n",
       "  <tbody>\n",
       "    <tr>\n",
       "      <th>0</th>\n",
       "      <td>1889-01-01 12:00:00</td>\n",
       "      <td>-36.25</td>\n",
       "      <td>-35.0</td>\n",
       "      <td>140.625</td>\n",
       "      <td>142.5</td>\n",
       "      <td>3.293256e-13</td>\n",
       "      <td>ACCESS-CM2</td>\n",
       "    </tr>\n",
       "    <tr>\n",
       "      <th>1</th>\n",
       "      <td>1889-01-02 12:00:00</td>\n",
       "      <td>-36.25</td>\n",
       "      <td>-35.0</td>\n",
       "      <td>140.625</td>\n",
       "      <td>142.5</td>\n",
       "      <td>0.000000e+00</td>\n",
       "      <td>ACCESS-CM2</td>\n",
       "    </tr>\n",
       "    <tr>\n",
       "      <th>2</th>\n",
       "      <td>1889-01-03 12:00:00</td>\n",
       "      <td>-36.25</td>\n",
       "      <td>-35.0</td>\n",
       "      <td>140.625</td>\n",
       "      <td>142.5</td>\n",
       "      <td>0.000000e+00</td>\n",
       "      <td>ACCESS-CM2</td>\n",
       "    </tr>\n",
       "    <tr>\n",
       "      <th>3</th>\n",
       "      <td>1889-01-04 12:00:00</td>\n",
       "      <td>-36.25</td>\n",
       "      <td>-35.0</td>\n",
       "      <td>140.625</td>\n",
       "      <td>142.5</td>\n",
       "      <td>0.000000e+00</td>\n",
       "      <td>ACCESS-CM2</td>\n",
       "    </tr>\n",
       "    <tr>\n",
       "      <th>4</th>\n",
       "      <td>1889-01-05 12:00:00</td>\n",
       "      <td>-36.25</td>\n",
       "      <td>-35.0</td>\n",
       "      <td>140.625</td>\n",
       "      <td>142.5</td>\n",
       "      <td>1.047658e-02</td>\n",
       "      <td>ACCESS-CM2</td>\n",
       "    </tr>\n",
       "  </tbody>\n",
       "</table>\n",
       "</div>"
      ],
      "text/plain": [
       "                  time  lat_min  lat_max  lon_min  lon_max  rain (mm/day)  \\\n",
       "0  1889-01-01 12:00:00   -36.25    -35.0  140.625    142.5   3.293256e-13   \n",
       "1  1889-01-02 12:00:00   -36.25    -35.0  140.625    142.5   0.000000e+00   \n",
       "2  1889-01-03 12:00:00   -36.25    -35.0  140.625    142.5   0.000000e+00   \n",
       "3  1889-01-04 12:00:00   -36.25    -35.0  140.625    142.5   0.000000e+00   \n",
       "4  1889-01-05 12:00:00   -36.25    -35.0  140.625    142.5   1.047658e-02   \n",
       "\n",
       "        model  \n",
       "0  ACCESS-CM2  \n",
       "1  ACCESS-CM2  \n",
       "2  ACCESS-CM2  \n",
       "3  ACCESS-CM2  \n",
       "4  ACCESS-CM2  "
      ]
     },
     "execution_count": 9,
     "metadata": {},
     "output_type": "execute_result"
    }
   ],
   "source": [
    "df.head()"
   ]
  },
  {
   "cell_type": "markdown",
   "id": "ea2817c6-2dd6-42e7-9c05-380f2adcf789",
   "metadata": {},
   "source": [
    "### Run Times:\n",
    "\n",
    "| Team Member | Operating System | RAM | Processor | Is SSD | CPU times | Wall time |\n",
    "| --- | --- | --- | --- | --- | --- | --- |\n",
    "| Alex | Windows 10 Home | 16GB | AMD | Yes | 12min 58s | 13min 22s |\n",
    "| Harry | macOS | 16GB | Intel i5 | Yes | 12min 12s | 15min 22s  |\n",
    "| Brandon | macOS | 16GB | Apple M1 | Yes | 13min 20s | 15min 3s |\n",
    "| Anthea | Windows10Pro | 8GB | Intel | No | 47min23s | 63min15s |\n",
    "\n",
    "### Summary:\n",
    "> 1. The combined CSV file is 6.1GB. It was expected that it would took much longer time to read the file and save into in-memory using pandas methods.  \n",
    "> 2. The run time varies a lot. Among all observations, the processing time increases when the computer has less RAM. It was also expected that the computer would slow down when it has used up all of the available RAM memory. "
   ]
  },
  {
   "cell_type": "markdown",
   "id": "74f645e2-21e2-40bb-8d10-61ad6a119de8",
   "metadata": {},
   "source": [
    "# Load the combined CSV to memory and perform a simple EDA"
   ]
  },
  {
   "cell_type": "markdown",
   "id": "9a85f25e-8d68-4568-8d82-d542fcc19ced",
   "metadata": {},
   "source": [
    "Let's first load the combined CSV to memory."
   ]
  },
  {
   "cell_type": "code",
   "execution_count": 6,
   "id": "2dae032c-38ab-420b-93ac-a750c491d672",
   "metadata": {},
   "outputs": [
    {
     "name": "stdout",
     "output_type": "stream",
     "text": [
      "MPI-ESM1-2-HR       5154240\n",
      "TaiESM1             3541230\n",
      "NorESM2-MM          3541230\n",
      "CMCC-CM2-HR4        3541230\n",
      "CMCC-CM2-SR5        3541230\n",
      "CMCC-ESM2           3541230\n",
      "SAM0-UNICON         3541153\n",
      "FGOALS-f3-L         3219300\n",
      "GFDL-CM4            3219300\n",
      "GFDL-ESM4           3219300\n",
      "EC-Earth3-Veg-LR    3037320\n",
      "MRI-ESM2-0          3037320\n",
      "BCC-CSM2-MR         3035340\n",
      "MIROC6              2070900\n",
      "ACCESS-CM2          1932840\n",
      "ACCESS-ESM1-5       1610700\n",
      "INM-CM5-0           1609650\n",
      "INM-CM4-8           1609650\n",
      "KIOST-ESM           1287720\n",
      "FGOALS-g3           1287720\n",
      "MPI-ESM1-2-LR        966420\n",
      "NESM3                966420\n",
      "AWI-ESM-1-1-LR       966420\n",
      "MPI-ESM-1-2-HAM      966420\n",
      "NorESM2-LM           919800\n",
      "BCC-ESM1             551880\n",
      "CanESM5              551880\n",
      "Name: model, dtype: int64\n",
      "CPU times: total: 3min 23s\n",
      "Wall time: 4min 48s\n"
     ]
    }
   ],
   "source": [
    "%%time\n",
    "df = pd.read_csv(\"figshareairline/combined_data.csv\", index_col=0)\n",
    "print(df[\"model\"].value_counts())"
   ]
  },
  {
   "cell_type": "markdown",
   "id": "a260792d-1af0-426d-8ef2-5f4637432634",
   "metadata": {},
   "source": [
    "Run Times:\n",
    "\n",
    "| Team Member | Operating System | RAM | Processor | Is SSD | CPU times | Wall time |\n",
    "| --- | --- | --- | --- | --- | --- | --- |\n",
    "| Alex | Windows 10 Home | 16GB | AMD | Yes | 1min 19s | 1min 26s |\n",
    "| Harry | macOS | 16GB | Intel i5 | Yes | 1min 57s | 2min 30s    |\n",
    "| Brandon | macOS | 16GB | Apple M1 | Yes | 1min 6s | 1min 26s   |\n",
    "| Anthea | Windows10Pro | 8GB | Intel | No | 4min 34s | 7min 51s |"
   ]
  },
  {
   "cell_type": "code",
   "execution_count": 3,
   "id": "3f3fb809",
   "metadata": {},
   "outputs": [
    {
     "data": {
      "text/html": [
       "<div>\n",
       "<style scoped>\n",
       "    .dataframe tbody tr th:only-of-type {\n",
       "        vertical-align: middle;\n",
       "    }\n",
       "\n",
       "    .dataframe tbody tr th {\n",
       "        vertical-align: top;\n",
       "    }\n",
       "\n",
       "    .dataframe thead th {\n",
       "        text-align: right;\n",
       "    }\n",
       "</style>\n",
       "<table border=\"1\" class=\"dataframe\">\n",
       "  <thead>\n",
       "    <tr style=\"text-align: right;\">\n",
       "      <th></th>\n",
       "      <th>lat_min</th>\n",
       "      <th>lat_max</th>\n",
       "      <th>lon_min</th>\n",
       "      <th>lon_max</th>\n",
       "      <th>rain (mm/day)</th>\n",
       "    </tr>\n",
       "  </thead>\n",
       "  <tbody>\n",
       "    <tr>\n",
       "      <th>count</th>\n",
       "      <td>5.924854e+07</td>\n",
       "      <td>6.246784e+07</td>\n",
       "      <td>5.924854e+07</td>\n",
       "      <td>6.246784e+07</td>\n",
       "      <td>5.924854e+07</td>\n",
       "    </tr>\n",
       "    <tr>\n",
       "      <th>mean</th>\n",
       "      <td>-3.310482e+01</td>\n",
       "      <td>-3.197757e+01</td>\n",
       "      <td>1.469059e+02</td>\n",
       "      <td>1.482150e+02</td>\n",
       "      <td>1.901170e+00</td>\n",
       "    </tr>\n",
       "    <tr>\n",
       "      <th>std</th>\n",
       "      <td>1.963549e+00</td>\n",
       "      <td>1.992067e+00</td>\n",
       "      <td>3.793784e+00</td>\n",
       "      <td>3.809994e+00</td>\n",
       "      <td>5.585735e+00</td>\n",
       "    </tr>\n",
       "    <tr>\n",
       "      <th>min</th>\n",
       "      <td>-3.646739e+01</td>\n",
       "      <td>-3.600000e+01</td>\n",
       "      <td>1.406250e+02</td>\n",
       "      <td>1.412500e+02</td>\n",
       "      <td>-3.807373e-12</td>\n",
       "    </tr>\n",
       "    <tr>\n",
       "      <th>25%</th>\n",
       "      <td>-3.486911e+01</td>\n",
       "      <td>-3.366221e+01</td>\n",
       "      <td>1.434375e+02</td>\n",
       "      <td>1.450000e+02</td>\n",
       "      <td>3.838413e-06</td>\n",
       "    </tr>\n",
       "    <tr>\n",
       "      <th>50%</th>\n",
       "      <td>-3.300000e+01</td>\n",
       "      <td>-3.204188e+01</td>\n",
       "      <td>1.468750e+02</td>\n",
       "      <td>1.481250e+02</td>\n",
       "      <td>6.154947e-02</td>\n",
       "    </tr>\n",
       "    <tr>\n",
       "      <th>75%</th>\n",
       "      <td>-3.140170e+01</td>\n",
       "      <td>-3.015707e+01</td>\n",
       "      <td>1.501875e+02</td>\n",
       "      <td>1.513125e+02</td>\n",
       "      <td>1.020918e+00</td>\n",
       "    </tr>\n",
       "    <tr>\n",
       "      <th>max</th>\n",
       "      <td>-2.990000e+01</td>\n",
       "      <td>-2.790606e+01</td>\n",
       "      <td>1.537500e+02</td>\n",
       "      <td>1.556250e+02</td>\n",
       "      <td>4.329395e+02</td>\n",
       "    </tr>\n",
       "  </tbody>\n",
       "</table>\n",
       "</div>"
      ],
      "text/plain": [
       "            lat_min       lat_max       lon_min       lon_max  rain (mm/day)\n",
       "count  5.924854e+07  6.246784e+07  5.924854e+07  6.246784e+07   5.924854e+07\n",
       "mean  -3.310482e+01 -3.197757e+01  1.469059e+02  1.482150e+02   1.901170e+00\n",
       "std    1.963549e+00  1.992067e+00  3.793784e+00  3.809994e+00   5.585735e+00\n",
       "min   -3.646739e+01 -3.600000e+01  1.406250e+02  1.412500e+02  -3.807373e-12\n",
       "25%   -3.486911e+01 -3.366221e+01  1.434375e+02  1.450000e+02   3.838413e-06\n",
       "50%   -3.300000e+01 -3.204188e+01  1.468750e+02  1.481250e+02   6.154947e-02\n",
       "75%   -3.140170e+01 -3.015707e+01  1.501875e+02  1.513125e+02   1.020918e+00\n",
       "max   -2.990000e+01 -2.790606e+01  1.537500e+02  1.556250e+02   4.329395e+02"
      ]
     },
     "execution_count": 3,
     "metadata": {},
     "output_type": "execute_result"
    }
   ],
   "source": [
    "df.describe()"
   ]
  },
  {
   "cell_type": "code",
   "execution_count": 4,
   "id": "e384be89-3ebf-4fcc-9da8-3f08a7743524",
   "metadata": {},
   "outputs": [
    {
     "name": "stdout",
     "output_type": "stream",
     "text": [
      "<class 'pandas.core.frame.DataFrame'>\n",
      "Int64Index: 62467843 entries, 0 to 3541152\n",
      "Data columns (total 7 columns):\n",
      " #   Column         Dtype  \n",
      "---  ------         -----  \n",
      " 0   time           object \n",
      " 1   lat_min        float64\n",
      " 2   lat_max        float64\n",
      " 3   lon_min        float64\n",
      " 4   lon_max        float64\n",
      " 5   rain (mm/day)  float64\n",
      " 6   model          object \n",
      "dtypes: float64(5), object(2)\n",
      "memory usage: 3.7+ GB\n"
     ]
    }
   ],
   "source": [
    "df.info()"
   ]
  },
  {
   "cell_type": "markdown",
   "id": "fe0de9a1-79e6-4a49-9ca9-b271f7019fb2",
   "metadata": {},
   "source": [
    "### Loading only columns we need\n",
    "It takes 3.7GB of memery! To reduce the use of memory, let's try loading only the columns (e.g. \"time\" and \"rain(mm/day)\") we need."
   ]
  },
  {
   "cell_type": "code",
   "execution_count": 3,
   "id": "2855ebe8-2852-4876-9546-717a383da6f7",
   "metadata": {},
   "outputs": [
    {
     "name": "stdout",
     "output_type": "stream",
     "text": [
      "MPI-ESM1-2-HR       5154240\n",
      "TaiESM1             3541230\n",
      "NorESM2-MM          3541230\n",
      "CMCC-CM2-HR4        3541230\n",
      "CMCC-CM2-SR5        3541230\n",
      "CMCC-ESM2           3541230\n",
      "SAM0-UNICON         3541153\n",
      "FGOALS-f3-L         3219300\n",
      "GFDL-CM4            3219300\n",
      "GFDL-ESM4           3219300\n",
      "EC-Earth3-Veg-LR    3037320\n",
      "MRI-ESM2-0          3037320\n",
      "BCC-CSM2-MR         3035340\n",
      "MIROC6              2070900\n",
      "ACCESS-CM2          1932840\n",
      "ACCESS-ESM1-5       1610700\n",
      "INM-CM5-0           1609650\n",
      "INM-CM4-8           1609650\n",
      "KIOST-ESM           1287720\n",
      "FGOALS-g3           1287720\n",
      "MPI-ESM1-2-LR        966420\n",
      "NESM3                966420\n",
      "AWI-ESM-1-1-LR       966420\n",
      "MPI-ESM-1-2-HAM      966420\n",
      "NorESM2-LM           919800\n",
      "BCC-ESM1             551880\n",
      "CanESM5              551880\n",
      "Name: model, dtype: int64\n",
      "CPU times: total: 2min 59s\n",
      "Wall time: 3min 56s\n"
     ]
    }
   ],
   "source": [
    "%%time\n",
    "use_cols = [\"time\", \"rain (mm/day)\", \"model\"]\n",
    "df_columns = pd.read_csv(\"figshareairline/combined_data.csv\", usecols=use_cols)\n",
    "print(df_columns[\"model\"].value_counts())"
   ]
  },
  {
   "cell_type": "markdown",
   "id": "cf3d2689-3148-4ccb-ab8b-3636369418a5",
   "metadata": {},
   "source": [
    "Run Times:\n",
    "\n",
    "| Team Member | Operating System | RAM | Processor | Is SSD | CPU times | Wall time |\n",
    "| --- | --- | --- | --- | --- | --- | --- |\n",
    "| Alex | Windows 10 Home | 16GB | AMD | Yes |  TBD | TBD |\n",
    "| Harry | macOS | 16GB | Intel i5 | Yes | TBD | TBD |\n",
    "| Brandon | macOS | 16GB | Apple M1 | Yes | 55.4s | 1min 5s |\n",
    "| Anthea | Windows10Pro | 8GB | Intel | No | 3min 11s | 4min 58s |"
   ]
  },
  {
   "cell_type": "code",
   "execution_count": 8,
   "id": "2152b6f2-0386-4711-a231-2fbf742b958e",
   "metadata": {},
   "outputs": [
    {
     "name": "stdout",
     "output_type": "stream",
     "text": [
      "<class 'pandas.core.frame.DataFrame'>\n",
      "RangeIndex: 62467843 entries, 0 to 62467842\n",
      "Data columns (total 3 columns):\n",
      " #   Column         Dtype  \n",
      "---  ------         -----  \n",
      " 0   time           object \n",
      " 1   rain (mm/day)  float64\n",
      " 2   model          object \n",
      "dtypes: float64(1), object(2)\n",
      "memory usage: 1.4+ GB\n"
     ]
    }
   ],
   "source": [
    "df_columns.info()"
   ]
  },
  {
   "cell_type": "markdown",
   "id": "cebb2d4d-5371-414f-b8e4-ab9a9c2429b6",
   "metadata": {},
   "source": [
    "The memory usage greatly reduced to 1.4GB by just loading the columns we need. The runtime also greatly reduced from ~1min 27s to 49s in average."
   ]
  },
  {
   "cell_type": "markdown",
   "id": "705da66e-e644-4108-a05f-1c9f6cc978f4",
   "metadata": {},
   "source": [
    "### Changing dtype\n",
    "The dtype for lat_min, lat_max, lon_min, lon_max and rain (mm/day) are all float64. To reduce the use of memeory, we can change the dtype to float32 as this is good enough for the stored values. The memory usage will be greatly reduced from 2499MB to 1249MB."
   ]
  },
  {
   "cell_type": "code",
   "execution_count": 9,
   "id": "f82245d1-1761-4ab0-912d-4e84ac129bb3",
   "metadata": {},
   "outputs": [
    {
     "name": "stdout",
     "output_type": "stream",
     "text": [
      "Memory usage with float64: 2998.46 MB\n",
      "Memory usage with float32: 1749.10 MB\n"
     ]
    }
   ],
   "source": [
    "print(\n",
    "    f\"Memory usage with float64: {df[['lat_min','lat_max','lon_min','lon_max','rain (mm/day)']].memory_usage().sum() / 1e6:.2f} MB\"\n",
    ")\n",
    "print(\n",
    "    f\"Memory usage with float32: {df[['lat_min','lat_max','lon_min','lon_max','rain (mm/day)']].astype('float32', errors='ignore').memory_usage().sum() / 1e6:.2f} MB\"\n",
    ")"
   ]
  },
  {
   "cell_type": "code",
   "execution_count": 7,
   "id": "fed195d6-fdbe-44e3-9e89-b8a0382f1255",
   "metadata": {},
   "outputs": [
    {
     "name": "stdout",
     "output_type": "stream",
     "text": [
      "MPI-ESM1-2-HR       5154240\n",
      "TaiESM1             3541230\n",
      "NorESM2-MM          3541230\n",
      "CMCC-CM2-HR4        3541230\n",
      "CMCC-CM2-SR5        3541230\n",
      "CMCC-ESM2           3541230\n",
      "SAM0-UNICON         3541153\n",
      "FGOALS-f3-L         3219300\n",
      "GFDL-CM4            3219300\n",
      "GFDL-ESM4           3219300\n",
      "EC-Earth3-Veg-LR    3037320\n",
      "MRI-ESM2-0          3037320\n",
      "BCC-CSM2-MR         3035340\n",
      "MIROC6              2070900\n",
      "ACCESS-CM2          1932840\n",
      "ACCESS-ESM1-5       1610700\n",
      "INM-CM5-0           1609650\n",
      "INM-CM4-8           1609650\n",
      "KIOST-ESM           1287720\n",
      "FGOALS-g3           1287720\n",
      "MPI-ESM1-2-LR        966420\n",
      "NESM3                966420\n",
      "AWI-ESM-1-1-LR       966420\n",
      "MPI-ESM-1-2-HAM      966420\n",
      "NorESM2-LM           919800\n",
      "BCC-ESM1             551880\n",
      "CanESM5              551880\n",
      "Name: model, dtype: int64\n",
      "CPU times: total: 3min 15s\n",
      "Wall time: 4min 8s\n"
     ]
    }
   ],
   "source": [
    "%%time\n",
    "dtypes = {\"lat_min\": \"float32\",\n",
    "          \"lat_max\": \"float32\",\n",
    "          \"lon_min\": \"float32\",\n",
    "          \"lon_max\": \"float32\",\n",
    "          \"rain (mm/day)\": \"float32\"}\n",
    "\n",
    "df_dtype = pd.read_csv(\"figshareairline/combined_data.csv\", index_col=0, dtype=dtypes)\n",
    "print(df_dtype[\"model\"].value_counts())"
   ]
  },
  {
   "cell_type": "markdown",
   "id": "595bce56-40a8-4c23-aa62-eb683a2663a5",
   "metadata": {},
   "source": [
    "Run Times:\n",
    "\n",
    "| Team Member | Operating System | RAM | Processor | Is SSD | CPU times | Wall time |\n",
    "| --- | --- | --- | --- | --- | --- | --- |\n",
    "| Alex | Windows 10 Home | 16GB | AMD | Yes |  TBD | TBD |\n",
    "| Harry | macOS | 16GB | Intel i5 | Yes | TBD | TBD |\n",
    "| Brandon | macOS | 16GB | Apple M1 | Yes | 1min 2s | 1min 10s |\n",
    "| Anthea | Windows10Pro | 8GB | Intel | No | 3min 42s | 5min 43s |"
   ]
  },
  {
   "cell_type": "markdown",
   "id": "ac5589e8-3655-43ec-ac64-3d33cf21ef88",
   "metadata": {},
   "source": [
    "### Loading the data in chunks"
   ]
  },
  {
   "cell_type": "code",
   "execution_count": 19,
   "id": "ff6aee89-f62d-4af9-a717-b37978a3a570",
   "metadata": {},
   "outputs": [
    {
     "name": "stdout",
     "output_type": "stream",
     "text": [
      "ACCESS-CM2          1932840\n",
      "ACCESS-ESM1-5       1610700\n",
      "AWI-ESM-1-1-LR       966420\n",
      "BCC-CSM2-MR         3035340\n",
      "BCC-ESM1             551880\n",
      "CMCC-CM2-HR4        3541230\n",
      "CMCC-CM2-SR5        3541230\n",
      "CMCC-ESM2           3541230\n",
      "CanESM5              551880\n",
      "EC-Earth3-Veg-LR    3037320\n",
      "FGOALS-f3-L         3219300\n",
      "FGOALS-g3           1287720\n",
      "GFDL-CM4            3219300\n",
      "GFDL-ESM4           3219300\n",
      "INM-CM4-8           1609650\n",
      "INM-CM5-0           1609650\n",
      "KIOST-ESM           1287720\n",
      "MIROC6              2070900\n",
      "MPI-ESM-1-2-HAM      966420\n",
      "MPI-ESM1-2-HR       5154240\n",
      "MPI-ESM1-2-LR        966420\n",
      "MRI-ESM2-0          3037320\n",
      "NESM3                966420\n",
      "NorESM2-LM           919800\n",
      "NorESM2-MM          3541230\n",
      "SAM0-UNICON         3541153\n",
      "TaiESM1             3541230\n",
      "dtype: int32\n",
      "CPU times: total: 1min 1s\n",
      "Wall time: 1min 1s\n"
     ]
    }
   ],
   "source": [
    "%%time\n",
    "counts = pd.Series(dtype=int)\n",
    "for chunk in pd.read_csv(\"figshareairline/combined_data.csv\", chunksize=10_000_000):\n",
    "    counts = counts.add(chunk[\"model\"].value_counts(), fill_value=0)\n",
    "print(counts.astype(int))"
   ]
  },
  {
   "cell_type": "markdown",
   "id": "567fddbd-4a35-4a3f-81e8-93c4242a77c7",
   "metadata": {},
   "source": [
    "Run Times:\n",
    "\n",
    "| Team Member | Operating System | RAM | Processor | Is SSD | CPU times | Wall time |\n",
    "| --- | --- | --- | --- | --- | --- | --- |\n",
    "| Alex | Windows 10 Home | 16GB | AMD | Yes |  1min 1s | 1min 1s |\n",
    "| Harry | macOS | 16GB | Intel i5 | Yes | 1min 23s | 1min 27s |\n",
    "| Brandon | macOS | 16GB | Apple M1 | Yes | 53.3s | 54.8s |\n",
    "| Anthea | Windows10Pro | 8GB | Intel | No | 53.3s | 54.8s |"
   ]
  },
  {
   "cell_type": "markdown",
   "id": "f4935584-522f-453c-ae62-7b159db85b17",
   "metadata": {},
   "source": [
    "Running the data in chunks also improves the runtime. In average, it took only 1min 2s on average."
   ]
  },
  {
   "cell_type": "markdown",
   "id": "c7315552-dc86-4aa2-a6d9-cd1cb9c3d805",
   "metadata": {},
   "source": [
    "### EDA"
   ]
  },
  {
   "cell_type": "code",
   "execution_count": 25,
   "id": "7695fa67-5721-42ed-b661-e465a26399ab",
   "metadata": {},
   "outputs": [
    {
     "data": {
      "image/png": "[encoded data removed]",
      "text/plain": [
       "<Figure size 1440x1440 with 6 Axes>"
      ]
     },
     "metadata": {
      "needs_background": "light"
     },
     "output_type": "display_data"
    }
   ],
   "source": [
    "df_dtype.hist(figsize=(20, 20), bins=20);"
   ]
  },
  {
   "cell_type": "code",
   "execution_count": 28,
   "id": "0de00019-1a4f-4ae2-b083-a99db61d0b24",
   "metadata": {},
   "outputs": [
    {
     "data": {
      "text/plain": [
       "(array([-10000000.,         0.,  10000000.,  20000000.,  30000000.,\n",
       "         40000000.,  50000000.,  60000000.,  70000000.]),\n",
       " [Text(-10000000.0, 0, '1959-07-13 12:00:00'),\n",
       "  Text(0.0, 0, '1889-01-01 12:00:00'),\n",
       "  Text(10000000.0, 0, '1936-03-17 12:00:00'),\n",
       "  Text(20000000.0, 0, '1990-03-03 12:00:00'),\n",
       "  Text(30000000.0, 0, '1915-04-21 12:00:00'),\n",
       "  Text(40000000.0, 0, '1966-07-27 12:00:00'),\n",
       "  Text(50000000.0, 0, '2003-12-20 12:00:00'),\n",
       "  Text(60000000.0, 0, '1931-10-15 12:00:00'),\n",
       "  Text(70000000.0, 0, '')])"
      ]
     },
     "execution_count": 28,
     "metadata": {},
     "output_type": "execute_result"
    },
    {
     "data": {
      "image/png": "[encoded data removed]",
      "text/plain": [
       "<Figure size 432x288 with 1 Axes>"
      ]
     },
     "metadata": {
      "needs_background": "light"
     },
     "output_type": "display_data"
    }
   ],
   "source": [
    "import matplotlib.pyplot as plt\n",
    "\n",
    "df_dtype.plot.line(y=\"rain (mm/day)\", x=\"time\")\n",
    "plt.xticks(rotation=90)"
   ]
  },
  {
   "cell_type": "markdown",
   "id": "9a0ec21e",
   "metadata": {},
   "source": [
    "# Perform a simple EDA in R"
   ]
  },
  {
   "cell_type": "markdown",
   "id": "61ae8176",
   "metadata": {},
   "source": [
    "## Transfer the dataframe from python to R"
   ]
  },
  {
   "cell_type": "code",
   "execution_count": 2,
   "id": "0933ecb5",
   "metadata": {},
   "outputs": [],
   "source": [
    "import pyarrow.dataset as ds\n",
    "import pyarrow as pa\n",
    "import pyarrow \n",
    "from pyarrow import csv\n",
    "import rpy2_arrow.pyarrow_rarrow as pyra"
   ]
  },
  {
   "cell_type": "code",
   "execution_count": 15,
   "id": "76d4bc32",
   "metadata": {},
   "outputs": [
    {
     "name": "stdout",
     "output_type": "stream",
     "text": [
      "CPU times: total: 34.7 s\n",
      "Wall time: 49.4 s\n"
     ]
    }
   ],
   "source": [
    "%%time\n",
    "# convert our processed to a pyarrow table\n",
    "py_table = pa.Table.from_pandas(df_dtype)\n",
    "# convert pyarrow table to rarrow table\n",
    "r_table = pyra.converter.py2rpy(py_table)"
   ]
  },
  {
   "cell_type": "markdown",
   "id": "96cb644a",
   "metadata": {},
   "source": [
    "## Reason of choosing arrow exchange"
   ]
  },
  {
   "cell_type": "markdown",
   "id": "2b501210",
   "metadata": {},
   "source": [
    "As a cross-language development platform for in-memory data, Apache Arrow can greatly improve performances when moving data between Python and R compared to purely Pandas exchange. As we can see, even in the slowest computer it only takes 49.6s to deal with such a big data frame. And apart from the original CSV, it allows us to directly transform the data frame we have processed in Python to R, which  saves a lot of redundant work. Also, compared to the Parquet file and the Feather file, in addtion to the good performance, Arrow Exchange doesn't need to save extra files, which saves a step and some space. Finally, arrow is well integrated into the dplyr, and many dplyr verbs are supported,so it is very convenient to use Arrow Exchange here."
   ]
  },
  {
   "cell_type": "markdown",
   "id": "0a08e87b",
   "metadata": {},
   "source": [
    "## EDA"
   ]
  },
  {
   "cell_type": "code",
   "execution_count": 20,
   "id": "a8f7130a",
   "metadata": {},
   "outputs": [],
   "source": [
    "%reload_ext rpy2.ipython"
   ]
  },
  {
   "cell_type": "code",
   "execution_count": 24,
   "id": "0c367bc4",
   "metadata": {},
   "outputs": [
    {
     "name": "stdout",
     "output_type": "stream",
     "text": [
      "Table\n",
      "6 rows x 8 columns\n",
      "$time <string>\n",
      "$lat_min <float>\n",
      "$lat_max <float>\n",
      "$lon_min <float>\n",
      "$lon_max <float>\n",
      "$rain (mm/day) <float>\n",
      "$model <string>\n",
      "$__index_level_0__ <int64>\n",
      "\n",
      "See $metadata for additional Schema metadata\n"
     ]
    }
   ],
   "source": [
    "%%R -i r_table\n",
    "library(dplyr)\n",
    "head(r_table)"
   ]
  },
  {
   "cell_type": "code",
   "execution_count": 27,
   "id": "c35184c3",
   "metadata": {},
   "outputs": [
    {
     "name": "stdout",
     "output_type": "stream",
     "text": [
      "\u001b[38;5;246m# A tibble: 27 x 2\u001b[39m\n",
      "   model                  n\n",
      "   \u001b[3m\u001b[38;5;246m<chr>\u001b[39m\u001b[23m              \u001b[3m\u001b[38;5;246m<int>\u001b[39m\u001b[23m\n",
      "\u001b[38;5;250m 1\u001b[39m ACCESS-CM2       1\u001b[4m9\u001b[24m\u001b[4m3\u001b[24m\u001b[4m2\u001b[24m840\n",
      "\u001b[38;5;250m 2\u001b[39m ACCESS-ESM1-5    1\u001b[4m6\u001b[24m\u001b[4m1\u001b[24m\u001b[4m0\u001b[24m700\n",
      "\u001b[38;5;250m 3\u001b[39m AWI-ESM-1-1-LR    \u001b[4m9\u001b[24m\u001b[4m6\u001b[24m\u001b[4m6\u001b[24m420\n",
      "\u001b[38;5;250m 4\u001b[39m BCC-CSM2-MR      3\u001b[4m0\u001b[24m\u001b[4m3\u001b[24m\u001b[4m5\u001b[24m340\n",
      "\u001b[38;5;250m 5\u001b[39m BCC-ESM1          \u001b[4m5\u001b[24m\u001b[4m5\u001b[24m\u001b[4m1\u001b[24m880\n",
      "\u001b[38;5;250m 6\u001b[39m CanESM5           \u001b[4m5\u001b[24m\u001b[4m5\u001b[24m\u001b[4m1\u001b[24m880\n",
      "\u001b[38;5;250m 7\u001b[39m CMCC-CM2-HR4     3\u001b[4m5\u001b[24m\u001b[4m4\u001b[24m\u001b[4m1\u001b[24m230\n",
      "\u001b[38;5;250m 8\u001b[39m CMCC-CM2-SR5     3\u001b[4m5\u001b[24m\u001b[4m4\u001b[24m\u001b[4m1\u001b[24m230\n",
      "\u001b[38;5;250m 9\u001b[39m CMCC-ESM2        3\u001b[4m5\u001b[24m\u001b[4m4\u001b[24m\u001b[4m1\u001b[24m230\n",
      "\u001b[38;5;250m10\u001b[39m EC-Earth3-Veg-LR 3\u001b[4m0\u001b[24m\u001b[4m3\u001b[24m\u001b[4m7\u001b[24m320\n",
      "\u001b[38;5;250m11\u001b[39m FGOALS-f3-L      3\u001b[4m2\u001b[24m\u001b[4m1\u001b[24m\u001b[4m9\u001b[24m300\n",
      "\u001b[38;5;250m12\u001b[39m FGOALS-g3        1\u001b[4m2\u001b[24m\u001b[4m8\u001b[24m\u001b[4m7\u001b[24m720\n",
      "\u001b[38;5;250m13\u001b[39m GFDL-CM4         3\u001b[4m2\u001b[24m\u001b[4m1\u001b[24m\u001b[4m9\u001b[24m300\n",
      "\u001b[38;5;250m14\u001b[39m GFDL-ESM4        3\u001b[4m2\u001b[24m\u001b[4m1\u001b[24m\u001b[4m9\u001b[24m300\n",
      "\u001b[38;5;250m15\u001b[39m INM-CM4-8        1\u001b[4m6\u001b[24m\u001b[4m0\u001b[24m\u001b[4m9\u001b[24m650\n",
      "\u001b[38;5;250m16\u001b[39m INM-CM5-0        1\u001b[4m6\u001b[24m\u001b[4m0\u001b[24m\u001b[4m9\u001b[24m650\n",
      "\u001b[38;5;250m17\u001b[39m KIOST-ESM        1\u001b[4m2\u001b[24m\u001b[4m8\u001b[24m\u001b[4m7\u001b[24m720\n",
      "\u001b[38;5;250m18\u001b[39m MIROC6           2\u001b[4m0\u001b[24m\u001b[4m7\u001b[24m\u001b[4m0\u001b[24m900\n",
      "\u001b[38;5;250m19\u001b[39m MPI-ESM-1-2-HAM   \u001b[4m9\u001b[24m\u001b[4m6\u001b[24m\u001b[4m6\u001b[24m420\n",
      "\u001b[38;5;250m20\u001b[39m MPI-ESM1-2-HR    5\u001b[4m1\u001b[24m\u001b[4m5\u001b[24m\u001b[4m4\u001b[24m240\n",
      "\u001b[38;5;250m21\u001b[39m MPI-ESM1-2-LR     \u001b[4m9\u001b[24m\u001b[4m6\u001b[24m\u001b[4m6\u001b[24m420\n",
      "\u001b[38;5;250m22\u001b[39m MRI-ESM2-0       3\u001b[4m0\u001b[24m\u001b[4m3\u001b[24m\u001b[4m7\u001b[24m320\n",
      "\u001b[38;5;250m23\u001b[39m NESM3             \u001b[4m9\u001b[24m\u001b[4m6\u001b[24m\u001b[4m6\u001b[24m420\n",
      "\u001b[38;5;250m24\u001b[39m NorESM2-LM        \u001b[4m9\u001b[24m\u001b[4m1\u001b[24m\u001b[4m9\u001b[24m800\n",
      "\u001b[38;5;250m25\u001b[39m NorESM2-MM       3\u001b[4m5\u001b[24m\u001b[4m4\u001b[24m\u001b[4m1\u001b[24m230\n",
      "\u001b[38;5;250m26\u001b[39m SAM0-UNICON      3\u001b[4m5\u001b[24m\u001b[4m4\u001b[24m\u001b[4m1\u001b[24m153\n",
      "\u001b[38;5;250m27\u001b[39m TaiESM1          3\u001b[4m5\u001b[24m\u001b[4m4\u001b[24m\u001b[4m1\u001b[24m230\n"
     ]
    }
   ],
   "source": [
    "%%R -i r_table\n",
    "r_table|>count(model)|>collect()|>print(n = Inf)"
   ]
  },
  {
   "cell_type": "code",
   "execution_count": 29,
   "id": "8f439b57",
   "metadata": {},
   "outputs": [],
   "source": [
    "%%R\n",
    "memory.limit(size = 800)\n",
    "r_df <- r_table|>collect()"
   ]
  },
  {
   "cell_type": "code",
   "execution_count": 30,
   "id": "4d26a246",
   "metadata": {},
   "outputs": [
    {
     "name": "stdout",
     "output_type": "stream",
     "text": [
      "\u001b[38;5;246m# A tibble: 6 x 8\u001b[39m\n",
      "  time    lat_min lat_max lon_min lon_max `rain (mm/day)` model `__index_level_~\n",
      "  \u001b[3m\u001b[38;5;246m<chr>\u001b[39m\u001b[23m     \u001b[3m\u001b[38;5;246m<dbl>\u001b[39m\u001b[23m   \u001b[3m\u001b[38;5;246m<dbl>\u001b[39m\u001b[23m   \u001b[3m\u001b[38;5;246m<dbl>\u001b[39m\u001b[23m   \u001b[3m\u001b[38;5;246m<dbl>\u001b[39m\u001b[23m           \u001b[3m\u001b[38;5;246m<dbl>\u001b[39m\u001b[23m \u001b[3m\u001b[38;5;246m<chr>\u001b[39m\u001b[23m            \u001b[3m\u001b[38;5;246m<int>\u001b[39m\u001b[23m\n",
      "\u001b[38;5;250m1\u001b[39m 1889-0~   -\u001b[31m36\u001b[39m\u001b[31m.\u001b[39m\u001b[31m2\u001b[39m     -\u001b[31m35\u001b[39m    141.    142.        3.29\u001b[38;5;246me\u001b[39m\u001b[31m-13\u001b[39m ACCE~                0\n",
      "\u001b[38;5;250m2\u001b[39m 1889-0~   -\u001b[31m36\u001b[39m\u001b[31m.\u001b[39m\u001b[31m2\u001b[39m     -\u001b[31m35\u001b[39m    141.    142.        0   \u001b[38;5;246m \u001b[39m    ACCE~                1\n",
      "\u001b[38;5;250m3\u001b[39m 1889-0~   -\u001b[31m36\u001b[39m\u001b[31m.\u001b[39m\u001b[31m2\u001b[39m     -\u001b[31m35\u001b[39m    141.    142.        0   \u001b[38;5;246m \u001b[39m    ACCE~                2\n",
      "\u001b[38;5;250m4\u001b[39m 1889-0~   -\u001b[31m36\u001b[39m\u001b[31m.\u001b[39m\u001b[31m2\u001b[39m     -\u001b[31m35\u001b[39m    141.    142.        0   \u001b[38;5;246m \u001b[39m    ACCE~                3\n",
      "\u001b[38;5;250m5\u001b[39m 1889-0~   -\u001b[31m36\u001b[39m\u001b[31m.\u001b[39m\u001b[31m2\u001b[39m     -\u001b[31m35\u001b[39m    141.    142.        1.05\u001b[38;5;246me\u001b[39m\u001b[31m- 2\u001b[39m ACCE~                4\n",
      "\u001b[38;5;250m6\u001b[39m 1889-0~   -\u001b[31m36\u001b[39m\u001b[31m.\u001b[39m\u001b[31m2\u001b[39m     -\u001b[31m35\u001b[39m    141.    142.        3.29\u001b[38;5;246me\u001b[39m\u001b[31m- 2\u001b[39m ACCE~                5\n"
     ]
    }
   ],
   "source": [
    "%%R\n",
    "head(r_df)"
   ]
  },
  {
   "cell_type": "code",
   "execution_count": null,
   "id": "5a3649c1",
   "metadata": {},
   "outputs": [],
   "source": [
    "%%R\n",
    "summary(r_df)"
   ]
  },
  {
   "cell_type": "code",
   "execution_count": null,
   "id": "deebca09",
   "metadata": {},
   "outputs": [],
   "source": [
    "# %%R\n",
    "# library(ggplot2)\n",
    "# for(i in c('lat_min','lat_max','lon_min','lon_max','rain (mm/day)')){\n",
    "#     ggplot(r_df,aes_string(i))+\n",
    "#     geom_histogram(bins=20)+\n",
    "#     title(i)\n",
    "# }"
   ]
  }
 ],
 "metadata": {
  "kernelspec": {
   "display_name": "Python [conda env:525_2022]",
   "language": "python",
   "name": "conda-env-525_2022-py"
  },
  "language_info": {
   "codemirror_mode": {
    "name": "ipython",
    "version": 3
   },
   "file_extension": ".py",
   "mimetype": "text/x-python",
   "name": "python",
   "nbconvert_exporter": "python",
   "pygments_lexer": "ipython3",
   "version": "3.8.6"
  }
 },
 "nbformat": 4,
 "nbformat_minor": 5
}
