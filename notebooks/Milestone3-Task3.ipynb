{
 "cells": [
  {
   "cell_type": "markdown",
   "metadata": {},
   "source": [
    "# Task 3"
   ]
  },
  {
   "cell_type": "markdown",
   "metadata": {},
   "source": [
    "# Imports"
   ]
  },
  {
   "cell_type": "code",
   "execution_count": 1,
   "metadata": {},
   "outputs": [],
   "source": [
    "import numpy as np\n",
    "import pandas as pd\n",
    "from joblib import dump, load\n",
    "from sklearn.metrics import mean_squared_error\n",
    "from sklearn.ensemble import RandomForestRegressor\n",
    "from sklearn.model_selection import train_test_split\n",
    "import matplotlib.pyplot as plt\n",
    "plt.style.use('ggplot')\n",
    "plt.rcParams.update({'font.size': 16, 'axes.labelweight': 'bold', 'figure.figsize': (8,6)})\n",
    "## add any other additional packages that you need. You are free to use any packages for vizualization."
   ]
  },
  {
   "cell_type": "markdown",
   "metadata": {},
   "source": [
    "## Part 1:"
   ]
  },
  {
   "cell_type": "markdown",
   "metadata": {},
   "source": [
    "Recall as a final goal of this project. We want to build and deploy ensemble machine learning models in the cloud, where features are outputs of different climate models and the target is the actual rainfall observation. In this milestone, you'll actually build these ensemble machine learning models in the cloud.  \n",
    "\n",
    "**Your tasks:**\n",
    "\n",
    "1. Read the data CSV from your s3 bucket. \n",
    "2. Drop rows with nans. \n",
    "3. Split the data into train (80%) and test (20%) portions with `random_state=123`. \n",
    "4. Carry out EDA of your choice on the train split. \n",
    "5. Train ensemble machine learning model using `RandomForestRegressor` and evaluate with metric of your choice (e.g., `RMSE`) by considering `Observed` as the target column. \n",
    "6. Discuss your results. Are you getting better results with ensemble models compared to the individual climate models? \n",
    "\n",
    "> Recall that individual columns in the data are predictions of different climate models. "
   ]
  },
  {
   "cell_type": "code",
   "execution_count": 2,
   "metadata": {},
   "outputs": [],
   "source": [
    "## Depending on the permissions that you provided to your bucket you might need to provide your aws credentials\n",
    "## to read from the bucket, if so provide with your credentials and pass as storage_options=aws_credentials\n",
    "# aws_credentials = {\"key\": \"\",\"secret\": \"\",\"token\":\"\"}\n",
    "df = pd.read_csv(\"s3://mds-s3-group02/output/ml_data_SYD.csv\", index_col=0, parse_dates=True)"
   ]
  },
  {
   "cell_type": "code",
   "execution_count": 3,
   "metadata": {},
   "outputs": [],
   "source": [
    "## Use your ML skills to get from step 1 to step 6"
   ]
  },
  {
   "cell_type": "code",
   "execution_count": 4,
   "metadata": {},
   "outputs": [],
   "source": [
    "#step 2\n",
    "df = df.dropna()"
   ]
  },
  {
   "cell_type": "code",
   "execution_count": 5,
   "metadata": {},
   "outputs": [],
   "source": [
    "#step 3\n",
    "train, test = train_test_split(df, test_size=0.2, random_state=123)\n",
    "X_train = train.drop(columns=[\"Observed\"])\n",
    "y_train = train[\"Observed\"]\n",
    "X_test = test.drop(columns=[\"Observed\"])\n",
    "y_test = test[\"Observed\"]"
   ]
  },
  {
   "cell_type": "code",
   "execution_count": 6,
   "metadata": {},
   "outputs": [
    {
     "data": {
      "text/html": [
       "<div>\n",
       "<style scoped>\n",
       "    .dataframe tbody tr th:only-of-type {\n",
       "        vertical-align: middle;\n",
       "    }\n",
       "\n",
       "    .dataframe tbody tr th {\n",
       "        vertical-align: top;\n",
       "    }\n",
       "\n",
       "    .dataframe thead th {\n",
       "        text-align: right;\n",
       "    }\n",
       "</style>\n",
       "<table border=\"1\" class=\"dataframe\">\n",
       "  <thead>\n",
       "    <tr style=\"text-align: right;\">\n",
       "      <th></th>\n",
       "      <th>count</th>\n",
       "      <th>mean</th>\n",
       "      <th>std</th>\n",
       "      <th>min</th>\n",
       "      <th>25%</th>\n",
       "      <th>50%</th>\n",
       "      <th>75%</th>\n",
       "      <th>max</th>\n",
       "    </tr>\n",
       "  </thead>\n",
       "  <tbody>\n",
       "    <tr>\n",
       "      <th>ACCESS-CM2</th>\n",
       "      <td>36791.0</td>\n",
       "      <td>2.4294</td>\n",
       "      <td>6.7914</td>\n",
       "      <td>0.0</td>\n",
       "      <td>0.0541</td>\n",
       "      <td>0.1930</td>\n",
       "      <td>1.4455</td>\n",
       "      <td>149.9676</td>\n",
       "    </tr>\n",
       "    <tr>\n",
       "      <th>ACCESS-ESM1-5</th>\n",
       "      <td>36791.0</td>\n",
       "      <td>2.9390</td>\n",
       "      <td>7.0488</td>\n",
       "      <td>0.0</td>\n",
       "      <td>0.0212</td>\n",
       "      <td>0.4928</td>\n",
       "      <td>2.3985</td>\n",
       "      <td>157.6057</td>\n",
       "    </tr>\n",
       "    <tr>\n",
       "      <th>AWI-ESM-1-1-LR</th>\n",
       "      <td>36791.0</td>\n",
       "      <td>3.7163</td>\n",
       "      <td>7.2809</td>\n",
       "      <td>0.0</td>\n",
       "      <td>0.0296</td>\n",
       "      <td>0.5923</td>\n",
       "      <td>3.6017</td>\n",
       "      <td>89.4657</td>\n",
       "    </tr>\n",
       "    <tr>\n",
       "      <th>BCC-CSM2-MR</th>\n",
       "      <td>36791.0</td>\n",
       "      <td>2.2031</td>\n",
       "      <td>6.5182</td>\n",
       "      <td>0.0</td>\n",
       "      <td>0.0005</td>\n",
       "      <td>0.0964</td>\n",
       "      <td>1.3189</td>\n",
       "      <td>134.4652</td>\n",
       "    </tr>\n",
       "    <tr>\n",
       "      <th>BCC-ESM1</th>\n",
       "      <td>36791.0</td>\n",
       "      <td>2.7484</td>\n",
       "      <td>5.9974</td>\n",
       "      <td>0.0</td>\n",
       "      <td>0.0024</td>\n",
       "      <td>0.2987</td>\n",
       "      <td>2.4779</td>\n",
       "      <td>87.1347</td>\n",
       "    </tr>\n",
       "    <tr>\n",
       "      <th>CMCC-CM2-HR4</th>\n",
       "      <td>36791.0</td>\n",
       "      <td>3.0928</td>\n",
       "      <td>6.4593</td>\n",
       "      <td>0.0</td>\n",
       "      <td>0.1383</td>\n",
       "      <td>0.6335</td>\n",
       "      <td>3.1826</td>\n",
       "      <td>124.9524</td>\n",
       "    </tr>\n",
       "    <tr>\n",
       "      <th>CMCC-CM2-SR5</th>\n",
       "      <td>36791.0</td>\n",
       "      <td>3.5752</td>\n",
       "      <td>7.3535</td>\n",
       "      <td>-0.0</td>\n",
       "      <td>0.0890</td>\n",
       "      <td>0.8279</td>\n",
       "      <td>3.7277</td>\n",
       "      <td>140.1478</td>\n",
       "    </tr>\n",
       "    <tr>\n",
       "      <th>CMCC-ESM2</th>\n",
       "      <td>36791.0</td>\n",
       "      <td>3.4898</td>\n",
       "      <td>7.0392</td>\n",
       "      <td>-0.0</td>\n",
       "      <td>0.0927</td>\n",
       "      <td>0.8486</td>\n",
       "      <td>3.6300</td>\n",
       "      <td>137.5916</td>\n",
       "    </tr>\n",
       "    <tr>\n",
       "      <th>CanESM5</th>\n",
       "      <td>36791.0</td>\n",
       "      <td>2.8793</td>\n",
       "      <td>6.8989</td>\n",
       "      <td>0.0</td>\n",
       "      <td>0.0225</td>\n",
       "      <td>0.3376</td>\n",
       "      <td>2.5589</td>\n",
       "      <td>135.5698</td>\n",
       "    </tr>\n",
       "    <tr>\n",
       "      <th>EC-Earth3-Veg-LR</th>\n",
       "      <td>36791.0</td>\n",
       "      <td>2.5654</td>\n",
       "      <td>5.7327</td>\n",
       "      <td>-0.0</td>\n",
       "      <td>0.0120</td>\n",
       "      <td>0.4297</td>\n",
       "      <td>2.2959</td>\n",
       "      <td>96.4238</td>\n",
       "    </tr>\n",
       "    <tr>\n",
       "      <th>FGOALS-g3</th>\n",
       "      <td>36791.0</td>\n",
       "      <td>1.7359</td>\n",
       "      <td>4.4726</td>\n",
       "      <td>0.0</td>\n",
       "      <td>0.0271</td>\n",
       "      <td>0.2854</td>\n",
       "      <td>1.3357</td>\n",
       "      <td>105.0902</td>\n",
       "    </tr>\n",
       "    <tr>\n",
       "      <th>GFDL-CM4</th>\n",
       "      <td>36791.0</td>\n",
       "      <td>1.8042</td>\n",
       "      <td>5.7154</td>\n",
       "      <td>0.0</td>\n",
       "      <td>0.0039</td>\n",
       "      <td>0.1211</td>\n",
       "      <td>0.9467</td>\n",
       "      <td>123.1511</td>\n",
       "    </tr>\n",
       "    <tr>\n",
       "      <th>INM-CM4-8</th>\n",
       "      <td>36791.0</td>\n",
       "      <td>3.8596</td>\n",
       "      <td>7.5554</td>\n",
       "      <td>0.0</td>\n",
       "      <td>0.1155</td>\n",
       "      <td>1.2201</td>\n",
       "      <td>4.2060</td>\n",
       "      <td>134.2616</td>\n",
       "    </tr>\n",
       "    <tr>\n",
       "      <th>INM-CM5-0</th>\n",
       "      <td>36791.0</td>\n",
       "      <td>4.0788</td>\n",
       "      <td>8.2799</td>\n",
       "      <td>0.0</td>\n",
       "      <td>0.0817</td>\n",
       "      <td>1.1660</td>\n",
       "      <td>4.2605</td>\n",
       "      <td>133.9738</td>\n",
       "    </tr>\n",
       "    <tr>\n",
       "      <th>KIOST-ESM</th>\n",
       "      <td>36791.0</td>\n",
       "      <td>1.6833</td>\n",
       "      <td>4.2620</td>\n",
       "      <td>0.0</td>\n",
       "      <td>0.0195</td>\n",
       "      <td>0.2923</td>\n",
       "      <td>1.5705</td>\n",
       "      <td>100.2324</td>\n",
       "    </tr>\n",
       "    <tr>\n",
       "      <th>MIROC6</th>\n",
       "      <td>36791.0</td>\n",
       "      <td>3.1171</td>\n",
       "      <td>7.7980</td>\n",
       "      <td>0.0</td>\n",
       "      <td>0.0187</td>\n",
       "      <td>0.3507</td>\n",
       "      <td>2.2909</td>\n",
       "      <td>167.1499</td>\n",
       "    </tr>\n",
       "    <tr>\n",
       "      <th>MPI-ESM-1-2-HAM</th>\n",
       "      <td>36791.0</td>\n",
       "      <td>3.2135</td>\n",
       "      <td>6.9793</td>\n",
       "      <td>0.0</td>\n",
       "      <td>0.0001</td>\n",
       "      <td>0.2082</td>\n",
       "      <td>2.6991</td>\n",
       "      <td>93.0677</td>\n",
       "    </tr>\n",
       "    <tr>\n",
       "      <th>MPI-ESM1-2-HR</th>\n",
       "      <td>36791.0</td>\n",
       "      <td>1.2994</td>\n",
       "      <td>4.8907</td>\n",
       "      <td>0.0</td>\n",
       "      <td>0.0000</td>\n",
       "      <td>0.0016</td>\n",
       "      <td>0.3465</td>\n",
       "      <td>109.5008</td>\n",
       "    </tr>\n",
       "    <tr>\n",
       "      <th>MPI-ESM1-2-LR</th>\n",
       "      <td>36791.0</td>\n",
       "      <td>2.0412</td>\n",
       "      <td>5.3478</td>\n",
       "      <td>0.0</td>\n",
       "      <td>0.0000</td>\n",
       "      <td>0.1140</td>\n",
       "      <td>1.1924</td>\n",
       "      <td>74.8437</td>\n",
       "    </tr>\n",
       "    <tr>\n",
       "      <th>MRI-ESM2-0</th>\n",
       "      <td>36791.0</td>\n",
       "      <td>1.5332</td>\n",
       "      <td>5.0003</td>\n",
       "      <td>0.0</td>\n",
       "      <td>0.0001</td>\n",
       "      <td>0.0319</td>\n",
       "      <td>0.6733</td>\n",
       "      <td>101.6900</td>\n",
       "    </tr>\n",
       "    <tr>\n",
       "      <th>NESM3</th>\n",
       "      <td>36791.0</td>\n",
       "      <td>1.7268</td>\n",
       "      <td>4.8728</td>\n",
       "      <td>0.0</td>\n",
       "      <td>0.0000</td>\n",
       "      <td>0.0499</td>\n",
       "      <td>0.7875</td>\n",
       "      <td>80.4578</td>\n",
       "    </tr>\n",
       "    <tr>\n",
       "      <th>NorESM2-LM</th>\n",
       "      <td>36791.0</td>\n",
       "      <td>2.4583</td>\n",
       "      <td>5.8153</td>\n",
       "      <td>0.0</td>\n",
       "      <td>0.0055</td>\n",
       "      <td>0.1696</td>\n",
       "      <td>1.8226</td>\n",
       "      <td>114.8981</td>\n",
       "    </tr>\n",
       "    <tr>\n",
       "      <th>NorESM2-MM</th>\n",
       "      <td>36791.0</td>\n",
       "      <td>2.8905</td>\n",
       "      <td>7.1291</td>\n",
       "      <td>0.0</td>\n",
       "      <td>0.0100</td>\n",
       "      <td>0.2559</td>\n",
       "      <td>2.4507</td>\n",
       "      <td>163.1645</td>\n",
       "    </tr>\n",
       "    <tr>\n",
       "      <th>SAM0-UNICON</th>\n",
       "      <td>36791.0</td>\n",
       "      <td>3.3836</td>\n",
       "      <td>7.9274</td>\n",
       "      <td>-0.0</td>\n",
       "      <td>0.0365</td>\n",
       "      <td>0.6540</td>\n",
       "      <td>3.2751</td>\n",
       "      <td>154.9718</td>\n",
       "    </tr>\n",
       "    <tr>\n",
       "      <th>TaiESM1</th>\n",
       "      <td>36791.0</td>\n",
       "      <td>3.4178</td>\n",
       "      <td>7.5586</td>\n",
       "      <td>-0.0</td>\n",
       "      <td>0.0493</td>\n",
       "      <td>0.6675</td>\n",
       "      <td>3.2344</td>\n",
       "      <td>167.3562</td>\n",
       "    </tr>\n",
       "    <tr>\n",
       "      <th>Observed</th>\n",
       "      <td>36791.0</td>\n",
       "      <td>2.7263</td>\n",
       "      <td>8.0783</td>\n",
       "      <td>0.0</td>\n",
       "      <td>0.0081</td>\n",
       "      <td>0.1632</td>\n",
       "      <td>1.6128</td>\n",
       "      <td>192.9330</td>\n",
       "    </tr>\n",
       "  </tbody>\n",
       "</table>\n",
       "</div>"
      ],
      "text/plain": [
       "                    count    mean     std  min     25%     50%     75%  \\\n",
       "ACCESS-CM2        36791.0  2.4294  6.7914  0.0  0.0541  0.1930  1.4455   \n",
       "ACCESS-ESM1-5     36791.0  2.9390  7.0488  0.0  0.0212  0.4928  2.3985   \n",
       "AWI-ESM-1-1-LR    36791.0  3.7163  7.2809  0.0  0.0296  0.5923  3.6017   \n",
       "BCC-CSM2-MR       36791.0  2.2031  6.5182  0.0  0.0005  0.0964  1.3189   \n",
       "BCC-ESM1          36791.0  2.7484  5.9974  0.0  0.0024  0.2987  2.4779   \n",
       "CMCC-CM2-HR4      36791.0  3.0928  6.4593  0.0  0.1383  0.6335  3.1826   \n",
       "CMCC-CM2-SR5      36791.0  3.5752  7.3535 -0.0  0.0890  0.8279  3.7277   \n",
       "CMCC-ESM2         36791.0  3.4898  7.0392 -0.0  0.0927  0.8486  3.6300   \n",
       "CanESM5           36791.0  2.8793  6.8989  0.0  0.0225  0.3376  2.5589   \n",
       "EC-Earth3-Veg-LR  36791.0  2.5654  5.7327 -0.0  0.0120  0.4297  2.2959   \n",
       "FGOALS-g3         36791.0  1.7359  4.4726  0.0  0.0271  0.2854  1.3357   \n",
       "GFDL-CM4          36791.0  1.8042  5.7154  0.0  0.0039  0.1211  0.9467   \n",
       "INM-CM4-8         36791.0  3.8596  7.5554  0.0  0.1155  1.2201  4.2060   \n",
       "INM-CM5-0         36791.0  4.0788  8.2799  0.0  0.0817  1.1660  4.2605   \n",
       "KIOST-ESM         36791.0  1.6833  4.2620  0.0  0.0195  0.2923  1.5705   \n",
       "MIROC6            36791.0  3.1171  7.7980  0.0  0.0187  0.3507  2.2909   \n",
       "MPI-ESM-1-2-HAM   36791.0  3.2135  6.9793  0.0  0.0001  0.2082  2.6991   \n",
       "MPI-ESM1-2-HR     36791.0  1.2994  4.8907  0.0  0.0000  0.0016  0.3465   \n",
       "MPI-ESM1-2-LR     36791.0  2.0412  5.3478  0.0  0.0000  0.1140  1.1924   \n",
       "MRI-ESM2-0        36791.0  1.5332  5.0003  0.0  0.0001  0.0319  0.6733   \n",
       "NESM3             36791.0  1.7268  4.8728  0.0  0.0000  0.0499  0.7875   \n",
       "NorESM2-LM        36791.0  2.4583  5.8153  0.0  0.0055  0.1696  1.8226   \n",
       "NorESM2-MM        36791.0  2.8905  7.1291  0.0  0.0100  0.2559  2.4507   \n",
       "SAM0-UNICON       36791.0  3.3836  7.9274 -0.0  0.0365  0.6540  3.2751   \n",
       "TaiESM1           36791.0  3.4178  7.5586 -0.0  0.0493  0.6675  3.2344   \n",
       "Observed          36791.0  2.7263  8.0783  0.0  0.0081  0.1632  1.6128   \n",
       "\n",
       "                       max  \n",
       "ACCESS-CM2        149.9676  \n",
       "ACCESS-ESM1-5     157.6057  \n",
       "AWI-ESM-1-1-LR     89.4657  \n",
       "BCC-CSM2-MR       134.4652  \n",
       "BCC-ESM1           87.1347  \n",
       "CMCC-CM2-HR4      124.9524  \n",
       "CMCC-CM2-SR5      140.1478  \n",
       "CMCC-ESM2         137.5916  \n",
       "CanESM5           135.5698  \n",
       "EC-Earth3-Veg-LR   96.4238  \n",
       "FGOALS-g3         105.0902  \n",
       "GFDL-CM4          123.1511  \n",
       "INM-CM4-8         134.2616  \n",
       "INM-CM5-0         133.9738  \n",
       "KIOST-ESM         100.2324  \n",
       "MIROC6            167.1499  \n",
       "MPI-ESM-1-2-HAM    93.0677  \n",
       "MPI-ESM1-2-HR     109.5008  \n",
       "MPI-ESM1-2-LR      74.8437  \n",
       "MRI-ESM2-0        101.6900  \n",
       "NESM3              80.4578  \n",
       "NorESM2-LM        114.8981  \n",
       "NorESM2-MM        163.1645  \n",
       "SAM0-UNICON       154.9718  \n",
       "TaiESM1           167.3562  \n",
       "Observed          192.9330  "
      ]
     },
     "execution_count": 6,
     "metadata": {},
     "output_type": "execute_result"
    }
   ],
   "source": [
    "#step 4\n",
    "train.describe().round(4).T"
   ]
  },
  {
   "cell_type": "code",
   "execution_count": 7,
   "metadata": {},
   "outputs": [
    {
     "data": {
      "text/plain": [
       "<AxesSubplot:>"
      ]
     },
     "execution_count": 7,
     "metadata": {},
     "output_type": "execute_result"
    },
    {
     "data": {
      "image/png": "[encoded data removed]",
      "text/plain": [
       "<Figure size 576x432 with 1 Axes>"
      ]
     },
     "metadata": {},
     "output_type": "display_data"
    }
   ],
   "source": [
    "train.boxplot(rot=90)"
   ]
  },
  {
   "cell_type": "code",
   "execution_count": 8,
   "metadata": {},
   "outputs": [
    {
     "data": {
      "text/plain": [
       "RandomForestRegressor(random_state=123)"
      ]
     },
     "execution_count": 8,
     "metadata": {},
     "output_type": "execute_result"
    }
   ],
   "source": [
    "#step 5\n",
    "rf = RandomForestRegressor(random_state=123)\n",
    "rf.fit(X_train, y_train)"
   ]
  },
  {
   "cell_type": "code",
   "execution_count": 9,
   "metadata": {},
   "outputs": [
    {
     "name": "stdout",
     "output_type": "stream",
     "text": [
      "RMSE for ensemble model is 8.86\n"
     ]
    }
   ],
   "source": [
    "y_pred = rf.predict(X_test)\n",
    "result_ensemble = mean_squared_error(y_true = y_test, y_pred = y_pred, squared = False)\n",
    "print(f'RMSE for ensemble model is {result_ensemble:.2f}')"
   ]
  },
  {
   "cell_type": "code",
   "execution_count": 10,
   "metadata": {},
   "outputs": [
    {
     "data": {
      "text/html": [
       "<div>\n",
       "<style scoped>\n",
       "    .dataframe tbody tr th:only-of-type {\n",
       "        vertical-align: middle;\n",
       "    }\n",
       "\n",
       "    .dataframe tbody tr th {\n",
       "        vertical-align: top;\n",
       "    }\n",
       "\n",
       "    .dataframe thead th {\n",
       "        text-align: right;\n",
       "    }\n",
       "</style>\n",
       "<table border=\"1\" class=\"dataframe\">\n",
       "  <thead>\n",
       "    <tr style=\"text-align: right;\">\n",
       "      <th></th>\n",
       "      <th>RMSE</th>\n",
       "    </tr>\n",
       "  </thead>\n",
       "  <tbody>\n",
       "    <tr>\n",
       "      <th>KIOST-ESM</th>\n",
       "      <td>9.600480</td>\n",
       "    </tr>\n",
       "    <tr>\n",
       "      <th>FGOALS-g3</th>\n",
       "      <td>9.687788</td>\n",
       "    </tr>\n",
       "    <tr>\n",
       "      <th>MRI-ESM2-0</th>\n",
       "      <td>9.922795</td>\n",
       "    </tr>\n",
       "    <tr>\n",
       "      <th>MPI-ESM1-2-HR</th>\n",
       "      <td>9.969823</td>\n",
       "    </tr>\n",
       "    <tr>\n",
       "      <th>NESM3</th>\n",
       "      <td>9.978137</td>\n",
       "    </tr>\n",
       "    <tr>\n",
       "      <th>MPI-ESM1-2-LR</th>\n",
       "      <td>10.260886</td>\n",
       "    </tr>\n",
       "    <tr>\n",
       "      <th>NorESM2-LM</th>\n",
       "      <td>10.410145</td>\n",
       "    </tr>\n",
       "    <tr>\n",
       "      <th>EC-Earth3-Veg-LR</th>\n",
       "      <td>10.453606</td>\n",
       "    </tr>\n",
       "    <tr>\n",
       "      <th>GFDL-CM4</th>\n",
       "      <td>10.511682</td>\n",
       "    </tr>\n",
       "    <tr>\n",
       "      <th>BCC-ESM1</th>\n",
       "      <td>10.615578</td>\n",
       "    </tr>\n",
       "    <tr>\n",
       "      <th>CMCC-CM2-HR4</th>\n",
       "      <td>10.643204</td>\n",
       "    </tr>\n",
       "    <tr>\n",
       "      <th>ACCESS-ESM1-5</th>\n",
       "      <td>10.695305</td>\n",
       "    </tr>\n",
       "    <tr>\n",
       "      <th>BCC-CSM2-MR</th>\n",
       "      <td>10.761381</td>\n",
       "    </tr>\n",
       "    <tr>\n",
       "      <th>MPI-ESM-1-2-HAM</th>\n",
       "      <td>10.932004</td>\n",
       "    </tr>\n",
       "    <tr>\n",
       "      <th>NorESM2-MM</th>\n",
       "      <td>10.939740</td>\n",
       "    </tr>\n",
       "    <tr>\n",
       "      <th>AWI-ESM-1-1-LR</th>\n",
       "      <td>10.996616</td>\n",
       "    </tr>\n",
       "    <tr>\n",
       "      <th>ACCESS-CM2</th>\n",
       "      <td>11.038999</td>\n",
       "    </tr>\n",
       "    <tr>\n",
       "      <th>CanESM5</th>\n",
       "      <td>11.151318</td>\n",
       "    </tr>\n",
       "    <tr>\n",
       "      <th>CMCC-ESM2</th>\n",
       "      <td>11.246493</td>\n",
       "    </tr>\n",
       "    <tr>\n",
       "      <th>MIROC6</th>\n",
       "      <td>11.352976</td>\n",
       "    </tr>\n",
       "    <tr>\n",
       "      <th>INM-CM4-8</th>\n",
       "      <td>11.451635</td>\n",
       "    </tr>\n",
       "    <tr>\n",
       "      <th>CMCC-CM2-SR5</th>\n",
       "      <td>11.480614</td>\n",
       "    </tr>\n",
       "    <tr>\n",
       "      <th>TaiESM1</th>\n",
       "      <td>11.528083</td>\n",
       "    </tr>\n",
       "    <tr>\n",
       "      <th>SAM0-UNICON</th>\n",
       "      <td>11.678749</td>\n",
       "    </tr>\n",
       "    <tr>\n",
       "      <th>INM-CM5-0</th>\n",
       "      <td>12.250223</td>\n",
       "    </tr>\n",
       "  </tbody>\n",
       "</table>\n",
       "</div>"
      ],
      "text/plain": [
       "                       RMSE\n",
       "KIOST-ESM          9.600480\n",
       "FGOALS-g3          9.687788\n",
       "MRI-ESM2-0         9.922795\n",
       "MPI-ESM1-2-HR      9.969823\n",
       "NESM3              9.978137\n",
       "MPI-ESM1-2-LR     10.260886\n",
       "NorESM2-LM        10.410145\n",
       "EC-Earth3-Veg-LR  10.453606\n",
       "GFDL-CM4          10.511682\n",
       "BCC-ESM1          10.615578\n",
       "CMCC-CM2-HR4      10.643204\n",
       "ACCESS-ESM1-5     10.695305\n",
       "BCC-CSM2-MR       10.761381\n",
       "MPI-ESM-1-2-HAM   10.932004\n",
       "NorESM2-MM        10.939740\n",
       "AWI-ESM-1-1-LR    10.996616\n",
       "ACCESS-CM2        11.038999\n",
       "CanESM5           11.151318\n",
       "CMCC-ESM2         11.246493\n",
       "MIROC6            11.352976\n",
       "INM-CM4-8         11.451635\n",
       "CMCC-CM2-SR5      11.480614\n",
       "TaiESM1           11.528083\n",
       "SAM0-UNICON       11.678749\n",
       "INM-CM5-0         12.250223"
      ]
     },
     "execution_count": 10,
     "metadata": {},
     "output_type": "execute_result"
    }
   ],
   "source": [
    "all_model = {}\n",
    "\n",
    "for col in X_train.columns:\n",
    "    rmse = mean_squared_error(y_true = y_test, y_pred = test[col], squared = False)\n",
    "    all_model[col] = rmse\n",
    "\n",
    "result_df = pd.DataFrame(all_model.values(), index=all_model.keys(), columns=[\"RMSE\"])\n",
    "result_df.sort_values(\"RMSE\")"
   ]
  },
  {
   "cell_type": "markdown",
   "metadata": {},
   "source": [
    "Yes, we get better result with ensemble model compared to the individual climate models. The RMSE for the ensemble model is 8.86 which is the lowest among all models."
   ]
  },
  {
   "cell_type": "markdown",
   "metadata": {},
   "source": [
    "## Part 2:"
   ]
  },
  {
   "cell_type": "markdown",
   "metadata": {},
   "source": [
    "### Preparation for deploying model next week"
   ]
  },
  {
   "cell_type": "markdown",
   "metadata": {},
   "source": [
    "***NOTE: Complete task 4 from the milestone3 before coming here***"
   ]
  },
  {
   "cell_type": "markdown",
   "metadata": {},
   "source": [
    "We’ve found the best hyperparameter settings with MLlib (from the task 4 from milestone3), here we then use the same hyperparameters to train a scikit-learn model. "
   ]
  },
  {
   "cell_type": "code",
   "execution_count": 11,
   "metadata": {},
   "outputs": [
    {
     "data": {
      "text/plain": [
       "RandomForestRegressor(bootstrap=False, max_depth=5)"
      ]
     },
     "execution_count": 11,
     "metadata": {},
     "output_type": "execute_result"
    }
   ],
   "source": [
    "model = RandomForestRegressor(n_estimators=100, max_depth=5, bootstrap=False)\n",
    "model.fit(X_train, y_train)"
   ]
  },
  {
   "cell_type": "code",
   "execution_count": 12,
   "metadata": {},
   "outputs": [
    {
     "name": "stdout",
     "output_type": "stream",
     "text": [
      "Train RMSE: 7.91\n",
      " Test RMSE: 8.72\n"
     ]
    }
   ],
   "source": [
    "print(f\"Train RMSE: {mean_squared_error(y_train, model.predict(X_train), squared=False):.2f}\")\n",
    "print(f\" Test RMSE: {mean_squared_error(y_test, model.predict(X_test), squared=False):.2f}\")"
   ]
  },
  {
   "cell_type": "code",
   "execution_count": 13,
   "metadata": {},
   "outputs": [
    {
     "data": {
      "text/plain": [
       "['model.joblib']"
      ]
     },
     "execution_count": 13,
     "metadata": {},
     "output_type": "execute_result"
    }
   ],
   "source": [
    "# ready to deploy\n",
    "dump(model, \"model.joblib\")"
   ]
  },
  {
   "cell_type": "markdown",
   "metadata": {},
   "source": [
    "***Upload model.joblib to s3 under output folder. You choose how you want to upload it (using CLI, SDK, or web console).***"
   ]
  }
 ],
 "metadata": {
  "kernelspec": {
   "display_name": "Python 3 (ipykernel)",
   "language": "python",
   "name": "python3"
  },
  "language_info": {
   "codemirror_mode": {
    "name": "ipython",
    "version": 3
   },
   "file_extension": ".py",
   "mimetype": "text/x-python",
   "name": "python",
   "nbconvert_exporter": "python",
   "pygments_lexer": "ipython3",
   "version": "3.9.5"
  }
 },
 "nbformat": 4,
 "nbformat_minor": 4
}
